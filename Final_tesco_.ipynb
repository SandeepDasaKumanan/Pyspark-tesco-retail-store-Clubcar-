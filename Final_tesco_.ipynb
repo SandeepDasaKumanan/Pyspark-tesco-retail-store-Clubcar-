{
  "nbformat": 4,
  "nbformat_minor": 0,
  "metadata": {
    "colab": {
      "provenance": [],
      "authorship_tag": "ABX9TyN+Mdi2AystZxPHltGBLzpZ",
      "include_colab_link": true
    },
    "kernelspec": {
      "name": "python3",
      "display_name": "Python 3"
    },
    "language_info": {
      "name": "python"
    }
  },
  "cells": [
    {
      "cell_type": "markdown",
      "metadata": {
        "id": "view-in-github",
        "colab_type": "text"
      },
      "source": [
        "<a href=\"https://colab.research.google.com/github/SandeepDasaKumanan/Pyspark-tesco-retail-store-Clubcar-/blob/main/Final_tesco_.ipynb\" target=\"_parent\"><img src=\"https://colab.research.google.com/assets/colab-badge.svg\" alt=\"Open In Colab\"/></a>"
      ]
    },
    {
      "cell_type": "code",
      "execution_count": null,
      "metadata": {
        "colab": {
          "base_uri": "https://localhost:8080/"
        },
        "id": "W7LAkHF_N9AW",
        "outputId": "e2eebf45-3ada-41b2-beb7-b959f27f20e8"
      },
      "outputs": [
        {
          "output_type": "stream",
          "name": "stdout",
          "text": [
            "Collecting pyspark\n",
            "  Downloading pyspark-3.4.1.tar.gz (310.8 MB)\n",
            "\u001b[2K     \u001b[90m━━━━━━━━━━━━━━━━━━━━━━━━━━━━━━━━━━━━━━━\u001b[0m \u001b[32m310.8/310.8 MB\u001b[0m \u001b[31m4.2 MB/s\u001b[0m eta \u001b[36m0:00:00\u001b[0m\n",
            "\u001b[?25h  Preparing metadata (setup.py) ... \u001b[?25l\u001b[?25hdone\n",
            "Requirement already satisfied: py4j==0.10.9.7 in /usr/local/lib/python3.10/dist-packages (from pyspark) (0.10.9.7)\n",
            "Building wheels for collected packages: pyspark\n",
            "  Building wheel for pyspark (setup.py) ... \u001b[?25l\u001b[?25hdone\n",
            "  Created wheel for pyspark: filename=pyspark-3.4.1-py2.py3-none-any.whl size=311285388 sha256=72c8b210dbc8699aa45aee2061b2ad208e50b7d91b45a6924cf55a011528d2dc\n",
            "  Stored in directory: /root/.cache/pip/wheels/0d/77/a3/ff2f74cc9ab41f8f594dabf0579c2a7c6de920d584206e0834\n",
            "Successfully built pyspark\n",
            "Installing collected packages: pyspark\n",
            "Successfully installed pyspark-3.4.1\n"
          ]
        }
      ],
      "source": [
        "!pip install pyspark"
      ]
    },
    {
      "cell_type": "code",
      "source": [
        "import pyspark\n",
        "print(pyspark.__version__)"
      ],
      "metadata": {
        "colab": {
          "base_uri": "https://localhost:8080/"
        },
        "id": "sjVgzwim4OCK",
        "outputId": "d8b90597-892d-4508-d9fa-7f02ef84fbae"
      },
      "execution_count": null,
      "outputs": [
        {
          "output_type": "stream",
          "name": "stdout",
          "text": [
            "3.4.1\n"
          ]
        }
      ]
    },
    {
      "cell_type": "code",
      "source": [
        "\n",
        "\n",
        "from pyspark import SparkFiles\n",
        "\n",
        "from pyspark.sql import SparkSession\n",
        "from pyspark.ml import Pipeline\n",
        "from pyspark.ml.feature import StringIndexer, VectorAssembler, OneHotEncoder\n",
        "from pyspark.ml.classification import DecisionTreeClassifier,RandomForestClassifier,LogisticRegression,GBTClassifier\n",
        "from pyspark.ml.evaluation import MulticlassClassificationEvaluator\n",
        "from pyspark.ml.tuning import CrossValidator, ParamGridBuilder"
      ],
      "metadata": {
        "id": "ojL5OianOAca"
      },
      "execution_count": null,
      "outputs": []
    },
    {
      "cell_type": "code",
      "source": [
        "spark = SparkSession.builder.appName(\"Tesco_retail_cub_card\").getOrCreate()"
      ],
      "metadata": {
        "id": "3VN7CCMO_zv7"
      },
      "execution_count": null,
      "outputs": []
    },
    {
      "cell_type": "code",
      "source": [
        "df = spark.read.csv('Tesco.csv',header= True,inferSchema=True)"
      ],
      "metadata": {
        "id": "edWY4HNcOh6L"
      },
      "execution_count": null,
      "outputs": []
    },
    {
      "cell_type": "code",
      "source": [
        "df.show()"
      ],
      "metadata": {
        "colab": {
          "base_uri": "https://localhost:8080/"
        },
        "id": "zMRqDf2Dpy-u",
        "outputId": "c1eebfc6-2813-4ac8-eb9f-5622da395819"
      },
      "execution_count": null,
      "outputs": [
        {
          "output_type": "stream",
          "name": "stdout",
          "text": [
            "+----------+------+-------------+-------+----------+------+------------+----------------+---------------+-------------------+-------------------+-------------------+-------------------+-------------------+-------------------+--------------+----------------+--------------------+--------------+------------+--------------+\n",
            "|customerID|gender|SeniorCitizen|Partner|Dependents|tenure|PhoneService|   MultipleLines|InternetService|     OnlineSecurity|       OnlineBackup|   DeviceProtection|        TechSupport|        StreamingTV|    StreamingMovies|      Contract|PaperlessBilling|       PaymentMethod|MonthlyCharges|TotalCharges|LeftMembership|\n",
            "+----------+------+-------------+-------+----------+------+------------+----------------+---------------+-------------------+-------------------+-------------------+-------------------+-------------------+-------------------+--------------+----------------+--------------------+--------------+------------+--------------+\n",
            "|7590-VHVEG|Female|            0|    Yes|        No|     1|          No|No phone service|            DSL|                 No|                Yes|                 No|                 No|                 No|                 No|Month-to-month|             Yes|    Electronic check|         29.85|       29.85|            No|\n",
            "|5575-GNVDE|  Male|            0|     No|        No|    34|         Yes|              No|            DSL|                Yes|                 No|                Yes|                 No|                 No|                 No|      One year|              No|        Mailed check|         56.95|      1889.5|            No|\n",
            "|3668-QPYBK|  Male|            0|     No|        No|     2|         Yes|              No|            DSL|                Yes|                Yes|                 No|                 No|                 No|                 No|Month-to-month|             Yes|        Mailed check|         53.85|      108.15|           Yes|\n",
            "|7795-CFOCW|  Male|            0|     No|        No|    45|          No|No phone service|            DSL|                Yes|                 No|                Yes|                Yes|                 No|                 No|      One year|              No|Bank transfer (au...|          42.3|     1840.75|            No|\n",
            "|9237-HQITU|Female|            0|     No|        No|     2|         Yes|              No|    Fiber optic|                 No|                 No|                 No|                 No|                 No|                 No|Month-to-month|             Yes|    Electronic check|          70.7|      151.65|           Yes|\n",
            "|9305-CDSKC|Female|            0|     No|        No|     8|         Yes|             Yes|    Fiber optic|                 No|                 No|                Yes|                 No|                Yes|                Yes|Month-to-month|             Yes|    Electronic check|         99.65|       820.5|           Yes|\n",
            "|1452-KIOVK|  Male|            0|     No|       Yes|    22|         Yes|             Yes|    Fiber optic|                 No|                Yes|                 No|                 No|                Yes|                 No|Month-to-month|             Yes|Credit card (auto...|          89.1|      1949.4|            No|\n",
            "|6713-OKOMC|Female|            0|     No|        No|    10|          No|No phone service|            DSL|                Yes|                 No|                 No|                 No|                 No|                 No|Month-to-month|              No|        Mailed check|         29.75|       301.9|            No|\n",
            "|7892-POOKP|Female|            0|    Yes|        No|    28|         Yes|             Yes|    Fiber optic|                 No|                 No|                Yes|                Yes|                Yes|                Yes|Month-to-month|             Yes|    Electronic check|         104.8|     3046.05|           Yes|\n",
            "|6388-TABGU|  Male|            0|     No|       Yes|    62|         Yes|              No|            DSL|                Yes|                Yes|                 No|                 No|                 No|                 No|      One year|              No|Bank transfer (au...|         56.15|     3487.95|            No|\n",
            "|9763-GRSKD|  Male|            0|    Yes|       Yes|    13|         Yes|              No|            DSL|                Yes|                 No|                 No|                 No|                 No|                 No|Month-to-month|             Yes|        Mailed check|         49.95|      587.45|            No|\n",
            "|7469-LKBCI|  Male|            0|     No|        No|    16|         Yes|              No|             No|No internet service|No internet service|No internet service|No internet service|No internet service|No internet service|      Two year|              No|Credit card (auto...|         18.95|       326.8|            No|\n",
            "|8091-TTVAX|  Male|            0|    Yes|        No|    58|         Yes|             Yes|    Fiber optic|                 No|                 No|                Yes|                 No|                Yes|                Yes|      One year|              No|Credit card (auto...|        100.35|      5681.1|            No|\n",
            "|0280-XJGEX|  Male|            0|     No|        No|    49|         Yes|             Yes|    Fiber optic|                 No|                Yes|                Yes|                 No|                Yes|                Yes|Month-to-month|             Yes|Bank transfer (au...|         103.7|      5036.3|           Yes|\n",
            "|5129-JLPIS|  Male|            0|     No|        No|    25|         Yes|              No|    Fiber optic|                Yes|                 No|                Yes|                Yes|                Yes|                Yes|Month-to-month|             Yes|    Electronic check|         105.5|     2686.05|            No|\n",
            "|3655-SNQYZ|Female|            0|    Yes|       Yes|    69|         Yes|             Yes|    Fiber optic|                Yes|                Yes|                Yes|                Yes|                Yes|                Yes|      Two year|              No|Credit card (auto...|        113.25|     7895.15|            No|\n",
            "|8191-XWSZG|Female|            0|     No|        No|    52|         Yes|              No|             No|No internet service|No internet service|No internet service|No internet service|No internet service|No internet service|      One year|              No|        Mailed check|         20.65|     1022.95|            No|\n",
            "|9959-WOFKT|  Male|            0|     No|       Yes|    71|         Yes|             Yes|    Fiber optic|                Yes|                 No|                Yes|                 No|                Yes|                Yes|      Two year|              No|Bank transfer (au...|         106.7|     7382.25|            No|\n",
            "|4190-MFLUW|Female|            0|    Yes|       Yes|    10|         Yes|              No|            DSL|                 No|                 No|                Yes|                Yes|                 No|                 No|Month-to-month|              No|Credit card (auto...|          55.2|      528.35|           Yes|\n",
            "|4183-MYFRB|Female|            0|     No|        No|    21|         Yes|              No|    Fiber optic|                 No|                Yes|                Yes|                 No|                 No|                Yes|Month-to-month|             Yes|    Electronic check|         90.05|      1862.9|            No|\n",
            "+----------+------+-------------+-------+----------+------+------------+----------------+---------------+-------------------+-------------------+-------------------+-------------------+-------------------+-------------------+--------------+----------------+--------------------+--------------+------------+--------------+\n",
            "only showing top 20 rows\n",
            "\n"
          ]
        }
      ]
    },
    {
      "cell_type": "code",
      "source": [
        "df.describe().show()"
      ],
      "metadata": {
        "colab": {
          "base_uri": "https://localhost:8080/"
        },
        "id": "Jaac_6a0yfGy",
        "outputId": "9825ca96-be68-4e1f-bd2e-f1d6c7fea4f2"
      },
      "execution_count": null,
      "outputs": [
        {
          "output_type": "stream",
          "name": "stdout",
          "text": [
            "+-------+----------+------+------------------+-------+----------+------------------+------------+-------------+---------------+--------------+------------+----------------+-----------+-----------+---------------+--------------+----------------+--------------------+------------------+------------------+--------------+\n",
            "|summary|customerID|gender|     SeniorCitizen|Partner|Dependents|            tenure|PhoneService|MultipleLines|InternetService|OnlineSecurity|OnlineBackup|DeviceProtection|TechSupport|StreamingTV|StreamingMovies|      Contract|PaperlessBilling|       PaymentMethod|    MonthlyCharges|      TotalCharges|LeftMembership|\n",
            "+-------+----------+------+------------------+-------+----------+------------------+------------+-------------+---------------+--------------+------------+----------------+-----------+-----------+---------------+--------------+----------------+--------------------+------------------+------------------+--------------+\n",
            "|  count|      7043|  7043|              7043|   7043|      7043|              7043|        7043|         7043|           7043|          7043|        7043|            7043|       7043|       7043|           7043|          7043|            7043|                7043|              7043|              7043|          7043|\n",
            "|   mean|      null|  null|0.1621468124378816|   null|      null| 32.37114865824223|        null|         null|           null|          null|        null|            null|       null|       null|           null|          null|            null|                null| 64.76169246059922|2283.3004408418697|          null|\n",
            "| stddev|      null|  null|0.3686116056100135|   null|      null|24.559481023094442|        null|         null|           null|          null|        null|            null|       null|       null|           null|          null|            null|                null|30.090047097678482| 2266.771361883145|          null|\n",
            "|    min|0002-ORFBO|Female|                 0|     No|        No|                 0|          No|           No|            DSL|            No|          No|              No|         No|         No|             No|Month-to-month|              No|Bank transfer (au...|             18.25|                  |            No|\n",
            "|    max|9995-HOTOH|  Male|                 1|    Yes|       Yes|                72|         Yes|          Yes|             No|           Yes|         Yes|             Yes|        Yes|        Yes|            Yes|      Two year|             Yes|        Mailed check|            118.75|             999.9|           Yes|\n",
            "+-------+----------+------+------------------+-------+----------+------------------+------------+-------------+---------------+--------------+------------+----------------+-----------+-----------+---------------+--------------+----------------+--------------------+------------------+------------------+--------------+\n",
            "\n"
          ]
        }
      ]
    },
    {
      "cell_type": "code",
      "source": [
        "type(df)"
      ],
      "metadata": {
        "colab": {
          "base_uri": "https://localhost:8080/"
        },
        "id": "sN-la3E80_eJ",
        "outputId": "5b3181ed-3712-4aea-cc00-b423acbf5d10"
      },
      "execution_count": null,
      "outputs": [
        {
          "output_type": "execute_result",
          "data": {
            "text/plain": [
              "pyspark.sql.dataframe.DataFrame"
            ]
          },
          "metadata": {},
          "execution_count": 11
        }
      ]
    },
    {
      "cell_type": "code",
      "source": [
        "df.columns"
      ],
      "metadata": {
        "colab": {
          "base_uri": "https://localhost:8080/"
        },
        "id": "xtk_mnt10MEg",
        "outputId": "7685084d-55ce-484d-a4c5-8b0fa7a509ba"
      },
      "execution_count": null,
      "outputs": [
        {
          "output_type": "execute_result",
          "data": {
            "text/plain": [
              "['customerID',\n",
              " 'gender',\n",
              " 'SeniorCitizen',\n",
              " 'Partner',\n",
              " 'Dependents',\n",
              " 'tenure',\n",
              " 'PhoneService',\n",
              " 'MultipleLines',\n",
              " 'InternetService',\n",
              " 'OnlineSecurity',\n",
              " 'OnlineBackup',\n",
              " 'DeviceProtection',\n",
              " 'TechSupport',\n",
              " 'StreamingTV',\n",
              " 'StreamingMovies',\n",
              " 'Contract',\n",
              " 'PaperlessBilling',\n",
              " 'PaymentMethod',\n",
              " 'MonthlyCharges',\n",
              " 'TotalCharges',\n",
              " 'LeftMembership']"
            ]
          },
          "metadata": {},
          "execution_count": 12
        }
      ]
    },
    {
      "cell_type": "code",
      "source": [
        "df.printSchema()"
      ],
      "metadata": {
        "colab": {
          "base_uri": "https://localhost:8080/"
        },
        "id": "e6bLvB2c0179",
        "outputId": "8be48dc9-28ed-4407-c5c1-96f3efcfd23d"
      },
      "execution_count": null,
      "outputs": [
        {
          "output_type": "stream",
          "name": "stdout",
          "text": [
            "root\n",
            " |-- customerID: string (nullable = true)\n",
            " |-- gender: string (nullable = true)\n",
            " |-- SeniorCitizen: integer (nullable = true)\n",
            " |-- Partner: string (nullable = true)\n",
            " |-- Dependents: string (nullable = true)\n",
            " |-- tenure: integer (nullable = true)\n",
            " |-- PhoneService: string (nullable = true)\n",
            " |-- MultipleLines: string (nullable = true)\n",
            " |-- InternetService: string (nullable = true)\n",
            " |-- OnlineSecurity: string (nullable = true)\n",
            " |-- OnlineBackup: string (nullable = true)\n",
            " |-- DeviceProtection: string (nullable = true)\n",
            " |-- TechSupport: string (nullable = true)\n",
            " |-- StreamingTV: string (nullable = true)\n",
            " |-- StreamingMovies: string (nullable = true)\n",
            " |-- Contract: string (nullable = true)\n",
            " |-- PaperlessBilling: string (nullable = true)\n",
            " |-- PaymentMethod: string (nullable = true)\n",
            " |-- MonthlyCharges: double (nullable = true)\n",
            " |-- TotalCharges: string (nullable = true)\n",
            " |-- LeftMembership: string (nullable = true)\n",
            "\n"
          ]
        }
      ]
    },
    {
      "cell_type": "code",
      "source": [
        "stringIndexer  = StringIndexer(inputCols=['gender','SeniorCitizen','Partner','Dependents','PhoneService','MultipleLines','InternetService','OnlineSecurity','OnlineBackup','DeviceProtection','TechSupport','StreamingTV','StreamingMovies','PaperlessBilling','LeftMembership'], outputCols=['gender_inedx','SeniorCitizen_index','Partner_index','Dependents_index','PhoneService_index','MultipleLines_index','InternetService_index','OnlineSecurity_index','OnlineBackup_index','DeviceProtection_index','TechSupport_index','StreamingTV_index','StreamingMovies_index','PaperlessBilling_index','label'])"
      ],
      "metadata": {
        "id": "aLnRm10JPE9W"
      },
      "execution_count": null,
      "outputs": []
    },
    {
      "cell_type": "code",
      "source": [],
      "metadata": {
        "id": "7lPuiA5jp4Ff"
      },
      "execution_count": null,
      "outputs": []
    },
    {
      "cell_type": "code",
      "source": [
        "assembler=VectorAssembler(inputCols=['gender_inedx','SeniorCitizen_index','Partner_index','Dependents_index','PhoneService_index','MultipleLines_index','InternetService_index','OnlineSecurity_index','OnlineBackup_index','DeviceProtection_index','TechSupport_index','StreamingTV_index','StreamingMovies_index','PaperlessBilling_index'],outputCol='features')"
      ],
      "metadata": {
        "id": "5IHGFU28drfi"
      },
      "execution_count": null,
      "outputs": []
    },
    {
      "cell_type": "code",
      "source": [],
      "metadata": {
        "id": "MBEZucVF1PMO"
      },
      "execution_count": null,
      "outputs": []
    },
    {
      "cell_type": "markdown",
      "source": [
        "#Train and Test Split"
      ],
      "metadata": {
        "id": "i9mHO6oJHUOv"
      }
    },
    {
      "cell_type": "code",
      "source": [
        "train_data, test_data = df.randomSplit([0.7, 0.3], seed=42)"
      ],
      "metadata": {
        "id": "7_ykNcLkdqoM"
      },
      "execution_count": null,
      "outputs": []
    },
    {
      "cell_type": "code",
      "source": [
        "train_data.show()"
      ],
      "metadata": {
        "colab": {
          "base_uri": "https://localhost:8080/"
        },
        "id": "ITf05tjDqG6I",
        "outputId": "38d0b9b4-6b73-41c9-d5b2-ecdef43709d4"
      },
      "execution_count": null,
      "outputs": [
        {
          "output_type": "stream",
          "name": "stdout",
          "text": [
            "+----------+------+-------------+-------+----------+------+------------+----------------+---------------+-------------------+-------------------+-------------------+-------------------+-------------------+-------------------+--------------+----------------+--------------------+--------------+------------+--------------+\n",
            "|customerID|gender|SeniorCitizen|Partner|Dependents|tenure|PhoneService|   MultipleLines|InternetService|     OnlineSecurity|       OnlineBackup|   DeviceProtection|        TechSupport|        StreamingTV|    StreamingMovies|      Contract|PaperlessBilling|       PaymentMethod|MonthlyCharges|TotalCharges|LeftMembership|\n",
            "+----------+------+-------------+-------+----------+------+------------+----------------+---------------+-------------------+-------------------+-------------------+-------------------+-------------------+-------------------+--------------+----------------+--------------------+--------------+------------+--------------+\n",
            "|0002-ORFBO|Female|            0|    Yes|       Yes|     9|         Yes|              No|            DSL|                 No|                Yes|                 No|                Yes|                Yes|                 No|      One year|             Yes|        Mailed check|          65.6|       593.3|            No|\n",
            "|0003-MKNFE|  Male|            0|     No|        No|     9|         Yes|             Yes|            DSL|                 No|                 No|                 No|                 No|                 No|                Yes|Month-to-month|              No|        Mailed check|          59.9|       542.4|            No|\n",
            "|0011-IGKFF|  Male|            1|    Yes|        No|    13|         Yes|              No|    Fiber optic|                 No|                Yes|                Yes|                 No|                Yes|                Yes|Month-to-month|             Yes|    Electronic check|          98.0|     1237.85|           Yes|\n",
            "|0013-EXCHZ|Female|            1|    Yes|        No|     3|         Yes|              No|    Fiber optic|                 No|                 No|                 No|                Yes|                Yes|                 No|Month-to-month|             Yes|        Mailed check|          83.9|       267.4|           Yes|\n",
            "|0013-MHZWF|Female|            0|     No|       Yes|     9|         Yes|              No|            DSL|                 No|                 No|                 No|                Yes|                Yes|                Yes|Month-to-month|             Yes|Credit card (auto...|          69.4|      571.45|            No|\n",
            "|0014-BMAQU|  Male|            0|    Yes|        No|    63|         Yes|             Yes|    Fiber optic|                Yes|                 No|                 No|                Yes|                 No|                 No|      Two year|             Yes|Credit card (auto...|         84.65|      5377.8|            No|\n",
            "|0017-DINOC|  Male|            0|     No|        No|    54|          No|No phone service|            DSL|                Yes|                 No|                 No|                Yes|                Yes|                 No|      Two year|              No|Credit card (auto...|          45.2|     2460.55|            No|\n",
            "|0017-IUDMW|Female|            0|    Yes|       Yes|    72|         Yes|             Yes|    Fiber optic|                Yes|                Yes|                Yes|                Yes|                Yes|                Yes|      Two year|             Yes|Credit card (auto...|         116.8|     8456.75|            No|\n",
            "|0018-NYROU|Female|            0|    Yes|        No|     5|         Yes|              No|    Fiber optic|                 No|                 No|                 No|                 No|                 No|                 No|Month-to-month|             Yes|    Electronic check|         68.95|       351.5|            No|\n",
            "|0020-JDNXP|Female|            0|    Yes|       Yes|    34|          No|No phone service|            DSL|                Yes|                 No|                Yes|                Yes|                Yes|                Yes|      One year|              No|        Mailed check|         61.25|      1993.2|            No|\n",
            "|0021-IKXGC|Female|            1|     No|        No|     1|         Yes|             Yes|    Fiber optic|                 No|                 No|                 No|                 No|                 No|                 No|Month-to-month|             Yes|    Electronic check|          72.1|        72.1|            No|\n",
            "|0022-TCJCI|  Male|            1|     No|        No|    45|         Yes|              No|            DSL|                Yes|                 No|                Yes|                 No|                 No|                Yes|      One year|              No|Credit card (auto...|          62.7|      2791.5|           Yes|\n",
            "|0023-UYUPN|Female|            1|    Yes|        No|    50|         Yes|             Yes|             No|No internet service|No internet service|No internet service|No internet service|No internet service|No internet service|      One year|              No|    Electronic check|          25.2|      1306.3|            No|\n",
            "|0027-KWYKW|Female|            0|    Yes|       Yes|    23|         Yes|             Yes|    Fiber optic|                 No|                 No|                 No|                 No|                Yes|                 No|Month-to-month|             Yes|    Electronic check|         83.75|     1849.95|            No|\n",
            "|0032-PGELS|Female|            0|    Yes|       Yes|     1|          No|No phone service|            DSL|                Yes|                 No|                 No|                 No|                 No|                 No|Month-to-month|              No|Bank transfer (au...|          30.5|        30.5|           Yes|\n",
            "|0036-IHMOT|Female|            0|    Yes|       Yes|    55|         Yes|              No|    Fiber optic|                 No|                Yes|                Yes|                Yes|                Yes|                Yes|      One year|             Yes|Bank transfer (au...|         103.7|     5656.75|            No|\n",
            "|0040-HALCW|  Male|            0|    Yes|       Yes|    54|         Yes|              No|             No|No internet service|No internet service|No internet service|No internet service|No internet service|No internet service|      Two year|              No|Credit card (auto...|          20.4|      1090.6|            No|\n",
            "|0048-PIHNL|Female|            0|    Yes|        No|    49|         Yes|              No|             No|No internet service|No internet service|No internet service|No internet service|No internet service|No internet service|      One year|              No|Bank transfer (au...|         20.45|       900.9|            No|\n",
            "|0052-YNYOT|Female|            0|     No|        No|    67|         Yes|              No|             No|No internet service|No internet service|No internet service|No internet service|No internet service|No internet service|      One year|              No|    Electronic check|         20.55|      1343.4|            No|\n",
            "|0058-EVZWM|Female|            0|    Yes|        No|    55|         Yes|             Yes|    Fiber optic|                Yes|                 No|                 No|                 No|                Yes|                 No|Month-to-month|             Yes|Bank transfer (au...|          89.8|      4959.6|            No|\n",
            "+----------+------+-------------+-------+----------+------+------------+----------------+---------------+-------------------+-------------------+-------------------+-------------------+-------------------+-------------------+--------------+----------------+--------------------+--------------+------------+--------------+\n",
            "only showing top 20 rows\n",
            "\n"
          ]
        }
      ]
    },
    {
      "cell_type": "code",
      "source": [
        "train_data.describe().show()"
      ],
      "metadata": {
        "colab": {
          "base_uri": "https://localhost:8080/"
        },
        "id": "drAy9Zpvz5Qb",
        "outputId": "1225c7d1-2e67-44c6-bd9a-a751d176961b"
      },
      "execution_count": null,
      "outputs": [
        {
          "output_type": "stream",
          "name": "stdout",
          "text": [
            "+-------+----------+------+-------------------+-------+----------+-----------------+------------+-------------+---------------+--------------+------------+----------------+-----------+-----------+---------------+--------------+----------------+--------------------+------------------+------------------+--------------+\n",
            "|summary|customerID|gender|      SeniorCitizen|Partner|Dependents|           tenure|PhoneService|MultipleLines|InternetService|OnlineSecurity|OnlineBackup|DeviceProtection|TechSupport|StreamingTV|StreamingMovies|      Contract|PaperlessBilling|       PaymentMethod|    MonthlyCharges|      TotalCharges|LeftMembership|\n",
            "+-------+----------+------+-------------------+-------+----------+-----------------+------------+-------------+---------------+--------------+------------+----------------+-----------+-----------+---------------+--------------+----------------+--------------------+------------------+------------------+--------------+\n",
            "|  count|      5036|  5036|               5036|   5036|      5036|             5036|        5036|         5036|           5036|          5036|        5036|            5036|       5036|       5036|           5036|          5036|            5036|                5036|              5036|              5036|          5036|\n",
            "|   mean|      null|  null| 0.1626290706910246|   null|      null|32.07366957903098|        null|         null|           null|          null|        null|            null|       null|       null|           null|          null|            null|                null| 64.40225377283551|2239.3807041973373|          null|\n",
            "| stddev|      null|  null|0.36906354859360874|   null|      null|24.49737707049263|        null|         null|           null|          null|        null|            null|       null|       null|           null|          null|            null|                null|29.932316190303755|2237.8144786732605|          null|\n",
            "|    min|0002-ORFBO|Female|                  0|     No|        No|                0|          No|           No|            DSL|            No|          No|              No|         No|         No|             No|Month-to-month|              No|Bank transfer (au...|             18.25|                  |            No|\n",
            "|    max|9993-LHIEB|  Male|                  1|    Yes|       Yes|               72|         Yes|          Yes|             No|           Yes|         Yes|             Yes|        Yes|        Yes|            Yes|      Two year|             Yes|        Mailed check|            118.75|             999.9|           Yes|\n",
            "+-------+----------+------+-------------------+-------+----------+-----------------+------------+-------------+---------------+--------------+------------+----------------+-----------+-----------+---------------+--------------+----------------+--------------------+------------------+------------------+--------------+\n",
            "\n"
          ]
        }
      ]
    },
    {
      "cell_type": "code",
      "source": [
        "test_data.show(10)"
      ],
      "metadata": {
        "colab": {
          "base_uri": "https://localhost:8080/"
        },
        "id": "9T3bydPgwaNa",
        "outputId": "90bef45d-a465-4739-cb05-05b42bd50bb7"
      },
      "execution_count": null,
      "outputs": [
        {
          "output_type": "stream",
          "name": "stdout",
          "text": [
            "+----------+------+-------------+-------+----------+------+------------+----------------+---------------+-------------------+-------------------+-------------------+-------------------+-------------------+-------------------+--------------+----------------+--------------------+--------------+------------+--------------+\n",
            "|customerID|gender|SeniorCitizen|Partner|Dependents|tenure|PhoneService|   MultipleLines|InternetService|     OnlineSecurity|       OnlineBackup|   DeviceProtection|        TechSupport|        StreamingTV|    StreamingMovies|      Contract|PaperlessBilling|       PaymentMethod|MonthlyCharges|TotalCharges|LeftMembership|\n",
            "+----------+------+-------------+-------+----------+------+------------+----------------+---------------+-------------------+-------------------+-------------------+-------------------+-------------------+-------------------+--------------+----------------+--------------------+--------------+------------+--------------+\n",
            "|0004-TLHLJ|  Male|            0|     No|        No|     4|         Yes|              No|    Fiber optic|                 No|                 No|                Yes|                 No|                 No|                 No|Month-to-month|             Yes|    Electronic check|          73.9|      280.85|           Yes|\n",
            "|0013-SMEOE|Female|            1|    Yes|        No|    71|         Yes|              No|    Fiber optic|                Yes|                Yes|                Yes|                Yes|                Yes|                Yes|      Two year|             Yes|Bank transfer (au...|         109.7|     7904.25|            No|\n",
            "|0015-UOCOJ|Female|            1|     No|        No|     7|         Yes|              No|            DSL|                Yes|                 No|                 No|                 No|                 No|                 No|Month-to-month|             Yes|    Electronic check|          48.2|      340.35|            No|\n",
            "|0016-QLJIS|Female|            0|    Yes|       Yes|    65|         Yes|             Yes|            DSL|                Yes|                Yes|                Yes|                Yes|                Yes|                Yes|      Two year|             Yes|        Mailed check|         90.45|      5957.9|            No|\n",
            "|0019-EFAEP|Female|            0|     No|        No|    72|         Yes|             Yes|    Fiber optic|                Yes|                Yes|                Yes|                 No|                Yes|                 No|      Two year|             Yes|Bank transfer (au...|         101.3|     7261.25|            No|\n",
            "|0019-GFNTW|Female|            0|     No|        No|    56|          No|No phone service|            DSL|                Yes|                Yes|                Yes|                Yes|                 No|                 No|      Two year|              No|Bank transfer (au...|         45.05|      2560.1|            No|\n",
            "|0020-INWCK|Female|            0|    Yes|       Yes|    71|         Yes|             Yes|    Fiber optic|                 No|                Yes|                Yes|                 No|                 No|                Yes|      Two year|             Yes|Credit card (auto...|         95.75|      6849.4|            No|\n",
            "|0023-HGHWL|  Male|            1|     No|        No|     1|          No|No phone service|            DSL|                 No|                 No|                 No|                 No|                 No|                 No|Month-to-month|             Yes|    Electronic check|          25.1|        25.1|           Yes|\n",
            "|0023-XUOPT|Female|            0|    Yes|        No|    13|         Yes|             Yes|    Fiber optic|                 No|                Yes|                Yes|                 No|                Yes|                 No|Month-to-month|              No|    Electronic check|          94.1|      1215.6|           Yes|\n",
            "|0030-FNXPP|Female|            0|     No|        No|     3|         Yes|              No|             No|No internet service|No internet service|No internet service|No internet service|No internet service|No internet service|Month-to-month|              No|        Mailed check|         19.85|        57.2|            No|\n",
            "+----------+------+-------------+-------+----------+------+------------+----------------+---------------+-------------------+-------------------+-------------------+-------------------+-------------------+-------------------+--------------+----------------+--------------------+--------------+------------+--------------+\n",
            "only showing top 10 rows\n",
            "\n"
          ]
        }
      ]
    },
    {
      "cell_type": "code",
      "source": [
        "test_data.describe().show()"
      ],
      "metadata": {
        "colab": {
          "base_uri": "https://localhost:8080/"
        },
        "id": "Ungtf2zwydVz",
        "outputId": "c8ab1981-ed9a-407f-9069-21286e240040"
      },
      "execution_count": null,
      "outputs": [
        {
          "output_type": "stream",
          "name": "stdout",
          "text": [
            "+-------+----------+------+-------------------+-------+----------+-----------------+------------+-------------+---------------+--------------+------------+----------------+-----------+-----------+---------------+--------------+----------------+--------------------+-----------------+------------------+--------------+\n",
            "|summary|customerID|gender|      SeniorCitizen|Partner|Dependents|           tenure|PhoneService|MultipleLines|InternetService|OnlineSecurity|OnlineBackup|DeviceProtection|TechSupport|StreamingTV|StreamingMovies|      Contract|PaperlessBilling|       PaymentMethod|   MonthlyCharges|      TotalCharges|LeftMembership|\n",
            "+-------+----------+------+-------------------+-------+----------+-----------------+------------+-------------+---------------+--------------+------------+----------------+-----------+-----------+---------------+--------------+----------------+--------------------+-----------------+------------------+--------------+\n",
            "|  count|      2007|  2007|               2007|   2007|      2007|             2007|        2007|         2007|           2007|          2007|        2007|            2007|       2007|       2007|           2007|          2007|            2007|                2007|             2007|              2007|          2007|\n",
            "|   mean|      null|  null|0.16093672147483806|   null|      null| 33.1175884404584|        null|         null|           null|          null|        null|            null|       null|       null|           null|          null|            null|                null|65.66360239162915|2393.4174064837953|          null|\n",
            "| stddev|      null|  null|0.36756415665030717|   null|      null|24.70498160726654|        null|         null|           null|          null|        null|            null|       null|       null|           null|          null|            null|                null|30.47108368608412| 2334.734295250197|          null|\n",
            "|    min|0004-TLHLJ|Female|                  0|     No|        No|                0|          No|           No|            DSL|            No|          No|              No|         No|         No|             No|Month-to-month|              No|Bank transfer (au...|            18.55|                  |            No|\n",
            "|    max|9995-HOTOH|  Male|                  1|    Yes|       Yes|               72|         Yes|          Yes|             No|           Yes|         Yes|             Yes|        Yes|        Yes|            Yes|      Two year|             Yes|        Mailed check|            117.6|            999.45|           Yes|\n",
            "+-------+----------+------+-------------------+-------+----------+-----------------+------------+-------------+---------------+--------------+------------+----------------+-----------+-----------+---------------+--------------+----------------+--------------------+-----------------+------------------+--------------+\n",
            "\n"
          ]
        }
      ]
    },
    {
      "cell_type": "markdown",
      "source": [
        "#Decision Tress"
      ],
      "metadata": {
        "id": "PTQmZUmOHPtf"
      }
    },
    {
      "cell_type": "code",
      "source": [
        "dt = DecisionTreeClassifier(labelCol='label', featuresCol='features')"
      ],
      "metadata": {
        "id": "hJioDB7Pd0-e"
      },
      "execution_count": null,
      "outputs": []
    },
    {
      "cell_type": "code",
      "source": [
        "pipeline = Pipeline(stages=[stringIndexer, assembler, dt])"
      ],
      "metadata": {
        "id": "SnvwSoTnRtLt"
      },
      "execution_count": null,
      "outputs": []
    },
    {
      "cell_type": "code",
      "source": [
        "paramGrid = ParamGridBuilder() \\\n",
        "    .addGrid(dt.maxDepth, [3, 5, 7]) \\\n",
        "    .addGrid(dt.minInstancesPerNode, [1, 3, 5]) \\\n",
        "    .build()"
      ],
      "metadata": {
        "id": "Ln5jpz6sR8qg"
      },
      "execution_count": null,
      "outputs": []
    },
    {
      "cell_type": "code",
      "source": [
        "crossval = CrossValidator(estimator=pipeline, estimatorParamMaps=paramGrid,\n",
        "                      evaluator=MulticlassClassificationEvaluator(\n",
        "                      labelCol='label', predictionCol='prediction', metricName='accuracy'),\n",
        "                      numFolds=5)"
      ],
      "metadata": {
        "id": "5n4zsxdQTk02"
      },
      "execution_count": null,
      "outputs": []
    },
    {
      "cell_type": "code",
      "source": [
        "cvModel = crossval.fit(train_data)"
      ],
      "metadata": {
        "id": "pGC4L45EWVgU"
      },
      "execution_count": null,
      "outputs": []
    },
    {
      "cell_type": "code",
      "source": [
        "best_model = cvModel.bestModel"
      ],
      "metadata": {
        "id": "2fvcNcLwXebQ"
      },
      "execution_count": null,
      "outputs": []
    },
    {
      "cell_type": "code",
      "source": [
        "predictions = best_model.transform(test_data)"
      ],
      "metadata": {
        "id": "H5qnrVjcXjpG"
      },
      "execution_count": null,
      "outputs": []
    },
    {
      "cell_type": "code",
      "source": [
        "predictions.select(\"prediction\", \"label\", \"features\").show(5)"
      ],
      "metadata": {
        "colab": {
          "base_uri": "https://localhost:8080/"
        },
        "id": "hXYJ7KKl3vX8",
        "outputId": "e5b8cd95-7b12-4a07-8242-738873c6de4d"
      },
      "execution_count": null,
      "outputs": [
        {
          "output_type": "stream",
          "name": "stdout",
          "text": [
            "+----------+-----+--------------------+\n",
            "|prediction|label|            features|\n",
            "+----------+-----+--------------------+\n",
            "|       0.0|  1.0|      (14,[9],[1.0])|\n",
            "|       0.0|  0.0|[1.0,1.0,1.0,0.0,...|\n",
            "|       0.0|  0.0|(14,[0,1,6,7],[1....|\n",
            "|       0.0|  0.0|[1.0,0.0,1.0,1.0,...|\n",
            "|       0.0|  0.0|(14,[0,5,7,8,9,11...|\n",
            "+----------+-----+--------------------+\n",
            "only showing top 5 rows\n",
            "\n"
          ]
        }
      ]
    },
    {
      "cell_type": "code",
      "source": [
        "evaluator = MulticlassClassificationEvaluator(labelCol=\"label\", predictionCol=\"prediction\", metricName=\"accuracy\")\n",
        "accuracy1 = evaluator.evaluate(predictions)"
      ],
      "metadata": {
        "id": "rv6nDsxMYMzZ"
      },
      "execution_count": null,
      "outputs": []
    },
    {
      "cell_type": "code",
      "source": [
        "print(f\"DecisionTree Test Accuracy: \",accuracy1)\n",
        "print(\"Test Error = %g\" % (1.0 - accuracy1))"
      ],
      "metadata": {
        "colab": {
          "base_uri": "https://localhost:8080/"
        },
        "id": "fei7paPiZvNi",
        "outputId": "7b48a630-7218-46eb-85b2-d83e7fcb2534"
      },
      "execution_count": null,
      "outputs": [
        {
          "output_type": "stream",
          "name": "stdout",
          "text": [
            "DecisionTree Test Accuracy:  0.7653213751868461\n",
            "Test Error = 0.234679\n"
          ]
        }
      ]
    },
    {
      "cell_type": "code",
      "source": [
        "evaluator = MulticlassClassificationEvaluator(labelCol=\"label\", predictionCol=\"prediction\",\n",
        "                                                 metricName=\"f1\")\n",
        "f1_dt = evaluator.evaluate(predictions)\n",
        "print(\"f1 for Decision Tree Classifier:\", f1_dt)"
      ],
      "metadata": {
        "colab": {
          "base_uri": "https://localhost:8080/"
        },
        "id": "iOae3176vb-K",
        "outputId": "623bc86f-5f99-4ca3-ab0f-2081e0af1dfb"
      },
      "execution_count": null,
      "outputs": [
        {
          "output_type": "stream",
          "name": "stdout",
          "text": [
            "f1 for Random Forest Classifier: 0.758889647835172\n"
          ]
        }
      ]
    },
    {
      "cell_type": "code",
      "source": [
        "evaluator = MulticlassClassificationEvaluator(labelCol=\"label\", predictionCol=\"prediction\",\n",
        "                                                 metricName=\"weightedPrecision\")\n",
        "weightedPrecision_dt = evaluator.evaluate(predictions)\n",
        "print(\"weightedPrecision for Decision Tree Classifier:\", weightedPrecision_dt)"
      ],
      "metadata": {
        "colab": {
          "base_uri": "https://localhost:8080/"
        },
        "id": "9E1wNpODvbxB",
        "outputId": "f46bea88-1b6c-4a3f-c052-9b0f0fc091fc"
      },
      "execution_count": null,
      "outputs": [
        {
          "output_type": "stream",
          "name": "stdout",
          "text": [
            "weightedPrecision for Random Forest Classifier: 0.7561859707331716\n"
          ]
        }
      ]
    },
    {
      "cell_type": "code",
      "source": [
        "evaluator = MulticlassClassificationEvaluator(labelCol=\"label\", predictionCol=\"prediction\",\n",
        "                                                 metricName=\"weightedRecall\")\n",
        "weightedRecall_dt = evaluator.evaluate(predictions)\n",
        "print(\"weightedRecall for Decision Tree Classifier:\", weightedRecall_dt)"
      ],
      "metadata": {
        "colab": {
          "base_uri": "https://localhost:8080/"
        },
        "id": "DtfnCh1evbsB",
        "outputId": "7399fef5-6428-4a92-96ed-bca34ec58624"
      },
      "execution_count": null,
      "outputs": [
        {
          "output_type": "stream",
          "name": "stdout",
          "text": [
            "weightedRecall for Random Forest Classifier: 0.772795216741405\n"
          ]
        }
      ]
    },
    {
      "cell_type": "code",
      "source": [
        "print(\"Accuracy: \",accuracy1)\n",
        "print(\"f1 for Random Forest Classifier:\", f1_dt)\n",
        "print(\"weightedPrecision for Random Forest Classifier:\", weightedPrecision_dt)\n",
        "print(\"weightedRecall for Random Forest Classifier:\", weightedRecall_dt)"
      ],
      "metadata": {
        "colab": {
          "base_uri": "https://localhost:8080/"
        },
        "id": "GTPF3yHSvbdO",
        "outputId": "445d1942-b59e-4817-a8a4-9ff3d788d32f"
      },
      "execution_count": null,
      "outputs": [
        {
          "output_type": "stream",
          "name": "stdout",
          "text": [
            "Accuracy:  0.7653213751868461\n",
            "f1 for Random Forest Classifier: 0.758889647835172\n",
            "weightedPrecision for Random Forest Classifier: 0.7561859707331716\n",
            "weightedRecall for Random Forest Classifier: 0.772795216741405\n"
          ]
        }
      ]
    },
    {
      "cell_type": "markdown",
      "source": [
        "#Random Forest"
      ],
      "metadata": {
        "id": "i5nbkTTAHMZw"
      }
    },
    {
      "cell_type": "code",
      "source": [
        "rf = RandomForestClassifier(labelCol=\"label\", featuresCol=\"features\")"
      ],
      "metadata": {
        "id": "KzXWQ3fGDF9r"
      },
      "execution_count": null,
      "outputs": []
    },
    {
      "cell_type": "code",
      "source": [
        "pipeline1 = Pipeline(stages=[stringIndexer, assembler, rf])"
      ],
      "metadata": {
        "id": "oTEsLkpQCp3N"
      },
      "execution_count": null,
      "outputs": []
    },
    {
      "cell_type": "code",
      "source": [
        "paramGrid1 = ParamGridBuilder() \\\n",
        "    .addGrid(rf.numTrees, [10, 20, 30]) \\\n",
        "    .addGrid(rf.maxDepth, [5, 10, 15]) \\\n",
        "    .build()"
      ],
      "metadata": {
        "id": "TTwS0t09C3HR"
      },
      "execution_count": null,
      "outputs": []
    },
    {
      "cell_type": "code",
      "source": [
        "cross_validator1 = CrossValidator(estimator=pipeline1,\n",
        "                          estimatorParamMaps=paramGrid1,\n",
        "                          evaluator=MulticlassClassificationEvaluator(labelCol=\"label\", metricName=\"accuracy\"),\n",
        "                          numFolds=5, seed=42)"
      ],
      "metadata": {
        "id": "MOEBrO7iC3Dd"
      },
      "execution_count": null,
      "outputs": []
    },
    {
      "cell_type": "code",
      "source": [
        "cv_model1 = cross_validator1.fit(train_data)"
      ],
      "metadata": {
        "id": "dEd3qFMeC3BC"
      },
      "execution_count": null,
      "outputs": []
    },
    {
      "cell_type": "code",
      "source": [
        "predictions = cv_model1.transform(test_data)"
      ],
      "metadata": {
        "id": "iVWE_I8rC2-U"
      },
      "execution_count": null,
      "outputs": []
    },
    {
      "cell_type": "code",
      "source": [
        "predictions.select(\"prediction\", \"label\", \"features\").show(5)"
      ],
      "metadata": {
        "colab": {
          "base_uri": "https://localhost:8080/"
        },
        "id": "NqsVsOaT3kqi",
        "outputId": "a1345462-d30b-4b55-fedf-e8a530ce1353"
      },
      "execution_count": null,
      "outputs": [
        {
          "output_type": "stream",
          "name": "stdout",
          "text": [
            "+----------+-----+--------------------+\n",
            "|prediction|label|            features|\n",
            "+----------+-----+--------------------+\n",
            "|       0.0|  1.0|      (14,[9],[1.0])|\n",
            "|       0.0|  0.0|[1.0,1.0,1.0,0.0,...|\n",
            "|       0.0|  0.0|(14,[0,1,6,7],[1....|\n",
            "|       0.0|  0.0|[1.0,0.0,1.0,1.0,...|\n",
            "|       0.0|  0.0|(14,[0,5,7,8,9,11...|\n",
            "+----------+-----+--------------------+\n",
            "only showing top 5 rows\n",
            "\n"
          ]
        }
      ]
    },
    {
      "cell_type": "code",
      "source": [
        "evaluator2 = MulticlassClassificationEvaluator(labelCol=\"label\", metricName=\"accuracy\")"
      ],
      "metadata": {
        "id": "6cDL9pY7C27t"
      },
      "execution_count": null,
      "outputs": []
    },
    {
      "cell_type": "code",
      "source": [
        "accuracy2 = evaluator2.evaluate(predictions)\n",
        "print(\"Random Forest accuracy = \",accuracy2)\n",
        "print(\"Test Error= %g\" %(1.0-accuracy2))"
      ],
      "metadata": {
        "colab": {
          "base_uri": "https://localhost:8080/"
        },
        "id": "UULM0SXvC25M",
        "outputId": "b6d0e022-a065-4c24-cbfa-1e8497d2097a"
      },
      "execution_count": null,
      "outputs": [
        {
          "output_type": "stream",
          "name": "stdout",
          "text": [
            "Random Forest accuracy =  0.7698056801195815\n",
            "Test Error= 0.230194\n"
          ]
        }
      ]
    },
    {
      "cell_type": "code",
      "source": [
        "evaluator2 = MulticlassClassificationEvaluator(labelCol=\"label\", predictionCol=\"prediction\",\n",
        "                                                 metricName=\"f1\")\n",
        "f1_rf = evaluator2.evaluate(predictions)\n",
        "print(\"f1 for Random Forest Classifier:\", f1_rf)"
      ],
      "metadata": {
        "colab": {
          "base_uri": "https://localhost:8080/"
        },
        "id": "vEr9pkrpuxr-",
        "outputId": "5bc18986-83bf-40a1-90b6-adbba924913a"
      },
      "execution_count": null,
      "outputs": [
        {
          "output_type": "stream",
          "name": "stdout",
          "text": [
            "f1 for Random Forest Classifier: 0.758889647835172\n"
          ]
        }
      ]
    },
    {
      "cell_type": "code",
      "source": [
        "evaluator2 = MulticlassClassificationEvaluator(labelCol=\"label\", predictionCol=\"prediction\",\n",
        "                                                 metricName=\"weightedPrecision\")\n",
        "weightedPrecision_rf = evaluator2.evaluate(predictions)\n",
        "print(\"weightedPrecision for Random Forest Classifier:\", weightedPrecision_rf)"
      ],
      "metadata": {
        "colab": {
          "base_uri": "https://localhost:8080/"
        },
        "id": "_-QTDATJu3h8",
        "outputId": "6c58b3ec-2843-46f9-8962-afed82602ad8"
      },
      "execution_count": null,
      "outputs": [
        {
          "output_type": "stream",
          "name": "stdout",
          "text": [
            "weightedPrecision for Random Forest Classifier: 0.7561859707331716\n"
          ]
        }
      ]
    },
    {
      "cell_type": "code",
      "source": [
        "evaluator2 = MulticlassClassificationEvaluator(labelCol=\"label\", predictionCol=\"prediction\",\n",
        "                                                 metricName=\"weightedRecall\")\n",
        "weightedRecall_rf = evaluator2.evaluate(predictions5)\n",
        "print(\"weightedRecall for Random Forest Classifier:\", weightedRecall_rf)"
      ],
      "metadata": {
        "colab": {
          "base_uri": "https://localhost:8080/"
        },
        "id": "QSkyny2nu0fN",
        "outputId": "730cbe8a-6d70-4a2d-dce1-3629e9abdfaf"
      },
      "execution_count": null,
      "outputs": [
        {
          "output_type": "stream",
          "name": "stdout",
          "text": [
            "weightedRecall for Random Forest Classifier: 0.7658196312904832\n"
          ]
        }
      ]
    },
    {
      "cell_type": "code",
      "source": [
        "print(\"Accuracy: \",accuracy2)\n",
        "print(\"f1 for Random Forest Classifier:\", f1_rf)\n",
        "print(\"weightedPrecision for Random Forest Classifier:\", weightedPrecision_rf)\n",
        "print(\"weightedRecall for Random Forest Classifier:\", weightedRecall_rf)"
      ],
      "metadata": {
        "colab": {
          "base_uri": "https://localhost:8080/"
        },
        "id": "dEGTSeriuu5o",
        "outputId": "f3131425-f677-4d7f-c9a5-0260073e28a9"
      },
      "execution_count": null,
      "outputs": [
        {
          "output_type": "stream",
          "name": "stdout",
          "text": [
            "Accuracy:  0.7698056801195815\n",
            "f1 for Random Forest Classifier: 0.758889647835172\n",
            "weightedPrecision for Random Forest Classifier: 0.7561859707331716\n",
            "weightedRecall for Random Forest Classifier: 0.7658196312904832\n"
          ]
        }
      ]
    },
    {
      "cell_type": "markdown",
      "source": [
        "#GBTClassifier"
      ],
      "metadata": {
        "id": "bOmUgHOlH90M"
      }
    },
    {
      "cell_type": "code",
      "source": [
        "\n",
        "gbt = GBTClassifier(labelCol=\"label\", featuresCol=\"features\", maxIter=10)\n",
        "pipeline = Pipeline(stages=[stringIndexer,assembler, gbt])\n"
      ],
      "metadata": {
        "id": "xnD9FUW6I_j2"
      },
      "execution_count": null,
      "outputs": []
    },
    {
      "cell_type": "code",
      "source": [
        "model = pipeline.fit(train_data)\n"
      ],
      "metadata": {
        "id": "DYQfFp1JJMIw"
      },
      "execution_count": null,
      "outputs": []
    },
    {
      "cell_type": "code",
      "source": [
        "predictions = model.transform(test_data)"
      ],
      "metadata": {
        "id": "ynrVsjM5C2zU"
      },
      "execution_count": null,
      "outputs": []
    },
    {
      "cell_type": "code",
      "source": [
        "predictions.select(\"prediction\", \"label\", \"features\").show(5)"
      ],
      "metadata": {
        "colab": {
          "base_uri": "https://localhost:8080/"
        },
        "id": "YXpKggYrC2jN",
        "outputId": "9ff651fe-c825-4a23-87b4-e55283cf3267"
      },
      "execution_count": null,
      "outputs": [
        {
          "output_type": "stream",
          "name": "stdout",
          "text": [
            "+----------+-----+--------------------+\n",
            "|prediction|label|            features|\n",
            "+----------+-----+--------------------+\n",
            "|       1.0|  1.0|      (14,[9],[1.0])|\n",
            "|       0.0|  0.0|[1.0,1.0,1.0,0.0,...|\n",
            "|       1.0|  0.0|(14,[0,1,6,7],[1....|\n",
            "|       0.0|  0.0|[1.0,0.0,1.0,1.0,...|\n",
            "|       0.0|  0.0|(14,[0,5,7,8,9,11...|\n",
            "+----------+-----+--------------------+\n",
            "only showing top 5 rows\n",
            "\n"
          ]
        }
      ]
    },
    {
      "cell_type": "code",
      "source": [
        "evaluator3 = MulticlassClassificationEvaluator(\n",
        "    labelCol=\"label\", predictionCol=\"prediction\", metricName=\"accuracy\")\n",
        "accuracy3 = evaluator3.evaluate(predictions)\n",
        "print(\"Accuracy: \",accuracy3)\n",
        "print(\"Test Error = %g\" % (1.0 - accuracy3))"
      ],
      "metadata": {
        "colab": {
          "base_uri": "https://localhost:8080/"
        },
        "id": "b_eVE13JaOXr",
        "outputId": "ab406ba6-8899-4c6f-d55a-78ef302dc847"
      },
      "execution_count": null,
      "outputs": [
        {
          "output_type": "stream",
          "name": "stdout",
          "text": [
            "Accuracy:  0.772795216741405\n",
            "Test Error = 0.227205\n"
          ]
        }
      ]
    },
    {
      "cell_type": "code",
      "source": [
        "evaluator3 = MulticlassClassificationEvaluator(labelCol=\"label\", predictionCol=\"prediction\",\n",
        "                                                 metricName=\"f1\")\n",
        "f1_gbt = evaluator3.evaluate(predictions)\n",
        "print(\"f1 for GBT Classifier:\", f1_gbt)"
      ],
      "metadata": {
        "colab": {
          "base_uri": "https://localhost:8080/"
        },
        "id": "s0jC8KSct0iy",
        "outputId": "fcdaf6b2-1ec3-4d9f-b310-02d669d58722"
      },
      "execution_count": null,
      "outputs": [
        {
          "output_type": "stream",
          "name": "stdout",
          "text": [
            "f1 for GBT Classifier: 0.758889647835172\n"
          ]
        }
      ]
    },
    {
      "cell_type": "code",
      "source": [
        "evaluator3 = MulticlassClassificationEvaluator(labelCol=\"label\", predictionCol=\"prediction\",\n",
        "                                                 metricName=\"weightedPrecision\")\n",
        "weightedPrecision_gbt = evaluator3.evaluate(predictions)\n",
        "print(\"weightedPrecision for GBT Classifier:\", weightedPrecision_gbt)"
      ],
      "metadata": {
        "colab": {
          "base_uri": "https://localhost:8080/"
        },
        "id": "BR76qWWjt-dV",
        "outputId": "336d4775-d664-4139-e943-e3032afcc5c5"
      },
      "execution_count": null,
      "outputs": [
        {
          "output_type": "stream",
          "name": "stdout",
          "text": [
            "weightedPrecision for GBT Classifier: 0.7561859707331716\n"
          ]
        }
      ]
    },
    {
      "cell_type": "code",
      "source": [
        "evaluator3 = MulticlassClassificationEvaluator(labelCol=\"label\", predictionCol=\"prediction\",\n",
        "                                                 metricName=\"weightedRecall\")\n",
        "weightedRecall_gbt = evaluator3.evaluate(predictions5)\n",
        "print(\"weightedRecall for GBT Classifier:\", weightedRecall_gbt)"
      ],
      "metadata": {
        "colab": {
          "base_uri": "https://localhost:8080/"
        },
        "id": "p4zdovfQt_vu",
        "outputId": "6cfcf3df-c0ad-46e1-c510-e77f0bb76639"
      },
      "execution_count": null,
      "outputs": [
        {
          "output_type": "stream",
          "name": "stdout",
          "text": [
            "weightedRecall for GBT Classifier: 0.7658196312904832\n"
          ]
        }
      ]
    },
    {
      "cell_type": "code",
      "source": [
        "print(\"Accuracy: \",accuracy3)\n",
        "print(\"f1 for GBT Classifier:\", f1_gbt)\n",
        "print(\"weightedPrecision for GBT Classifier:\", weightedPrecision_gbt)\n",
        "print(\"weightedRecall for GBT Classifier:\", weightedRecall_gbt)"
      ],
      "metadata": {
        "colab": {
          "base_uri": "https://localhost:8080/"
        },
        "id": "c-wudd8wt-O2",
        "outputId": "188c0b22-a1ed-4b6f-97aa-66cbe84f19fa"
      },
      "execution_count": null,
      "outputs": [
        {
          "output_type": "stream",
          "name": "stdout",
          "text": [
            "Accuracy:  0.772795216741405\n",
            "f1 for GBT Classifier: 0.758889647835172\n",
            "weightedPrecision for GBT Classifier: 0.7561859707331716\n",
            "weightedRecall for GBT Classifier: 0.7658196312904832\n"
          ]
        }
      ]
    },
    {
      "cell_type": "markdown",
      "source": [
        "#Logistic Regression Classifier"
      ],
      "metadata": {
        "id": "yaq4VpjqMCmL"
      }
    },
    {
      "cell_type": "code",
      "source": [
        "\n",
        "from pyspark.ml.classification import LogisticRegression"
      ],
      "metadata": {
        "id": "ZGQY-re_MLfr"
      },
      "execution_count": null,
      "outputs": []
    },
    {
      "cell_type": "code",
      "source": [
        "logistic_regression = LogisticRegression(featuresCol=\"features\", labelCol=\"label\")\n",
        "pipeline5 = Pipeline(stages=[stringIndexer,assembler, logistic_regression])"
      ],
      "metadata": {
        "id": "4Pg_bDiTlma_"
      },
      "execution_count": null,
      "outputs": []
    },
    {
      "cell_type": "code",
      "source": [
        "model = pipeline5.fit(train_data)"
      ],
      "metadata": {
        "id": "6c5RdVnjaSc0"
      },
      "execution_count": null,
      "outputs": []
    },
    {
      "cell_type": "code",
      "source": [
        "predictions5 = model.transform(test_data)"
      ],
      "metadata": {
        "id": "kGmfd5KCdJCn"
      },
      "execution_count": null,
      "outputs": []
    },
    {
      "cell_type": "code",
      "source": [
        "predictions5.select(\"prediction\", \"label\", \"features\").show(5)"
      ],
      "metadata": {
        "id": "0KTPVOI6dUFt",
        "colab": {
          "base_uri": "https://localhost:8080/"
        },
        "outputId": "67f55074-5e5c-4519-fe91-b41e271d005e"
      },
      "execution_count": null,
      "outputs": [
        {
          "output_type": "stream",
          "name": "stdout",
          "text": [
            "+----------+-----+--------------------+\n",
            "|prediction|label|            features|\n",
            "+----------+-----+--------------------+\n",
            "|       1.0|  1.0|      (14,[9],[1.0])|\n",
            "|       0.0|  0.0|[1.0,1.0,1.0,0.0,...|\n",
            "|       0.0|  0.0|(14,[0,1,6,7],[1....|\n",
            "|       0.0|  0.0|[1.0,0.0,1.0,1.0,...|\n",
            "|       0.0|  0.0|(14,[0,5,7,8,9,11...|\n",
            "+----------+-----+--------------------+\n",
            "only showing top 5 rows\n",
            "\n"
          ]
        }
      ]
    },
    {
      "cell_type": "code",
      "source": [
        "evaluator5 = MulticlassClassificationEvaluator(\n",
        "    labelCol=\"label\", predictionCol=\"prediction\", metricName=\"accuracy\")\n",
        "accuracy5 = evaluator5.evaluate(predictions5)\n",
        "print(\"Accuracy: \",accuracy5)\n",
        "print(\"Test Error = %g\" % (1.0 - accuracy5))"
      ],
      "metadata": {
        "id": "Rq5kRFmLflbO",
        "colab": {
          "base_uri": "https://localhost:8080/"
        },
        "outputId": "afae2583-1995-4c8a-f6ff-2d496ce39202"
      },
      "execution_count": null,
      "outputs": [
        {
          "output_type": "stream",
          "name": "stdout",
          "text": [
            "Accuracy:  0.7658196312904834\n",
            "Test Error = 0.23418\n"
          ]
        }
      ]
    },
    {
      "cell_type": "code",
      "source": [
        "evaluator5 = MulticlassClassificationEvaluator(labelCol=\"label\", predictionCol=\"prediction\",\n",
        "                                                 metricName=\"f1\")\n",
        "f1_lr = evaluator5.evaluate(predictions5)\n",
        "print(\"f1 for Logistic Regression Classifier:\", f1_lr)"
      ],
      "metadata": {
        "colab": {
          "base_uri": "https://localhost:8080/"
        },
        "id": "Ks48KomEr0cC",
        "outputId": "ae9abc96-5b93-4120-8946-b1b4b54248a9"
      },
      "execution_count": null,
      "outputs": [
        {
          "output_type": "stream",
          "name": "stdout",
          "text": [
            "f1 for Logistic Regression Classifier: 0.7311190615367359\n"
          ]
        }
      ]
    },
    {
      "cell_type": "code",
      "source": [
        "evaluator5 = MulticlassClassificationEvaluator(labelCol=\"label\", predictionCol=\"prediction\",\n",
        "                                                 metricName=\"weightedPrecision\")\n",
        "weightedPrecision_lr = evaluator5.evaluate(predictions5)\n",
        "print(\"weightedPrecision for Logistic Regression Classifier:\", weightedPrecision_lr)"
      ],
      "metadata": {
        "colab": {
          "base_uri": "https://localhost:8080/"
        },
        "id": "W_9iZieDsVQi",
        "outputId": "abe5e707-8a17-4845-a5e3-a6ac6f189556"
      },
      "execution_count": null,
      "outputs": [
        {
          "output_type": "stream",
          "name": "stdout",
          "text": [
            "weightedPrecision for Logistic Regression Classifier: 0.742845072399753\n"
          ]
        }
      ]
    },
    {
      "cell_type": "code",
      "source": [
        "evaluator5 = MulticlassClassificationEvaluator(labelCol=\"label\", predictionCol=\"prediction\",\n",
        "                                                 metricName=\"weightedRecall\")\n",
        "weightedRecall_lr = evaluator5.evaluate(predictions5)\n",
        "print(\"weightedRecall for Logistic Rgression Classifier:\", weightedRecall_lr)"
      ],
      "metadata": {
        "colab": {
          "base_uri": "https://localhost:8080/"
        },
        "id": "DdC667Jwskfu",
        "outputId": "83e2208b-e9dc-40f8-aa57-3d71ed063711"
      },
      "execution_count": null,
      "outputs": [
        {
          "output_type": "stream",
          "name": "stdout",
          "text": [
            "weightedRecall for Logistic Rgression Classifier: 0.7658196312904832\n"
          ]
        }
      ]
    },
    {
      "cell_type": "code",
      "source": [
        "print(\"Accuracy: \",accuracy5)\n",
        "print(\"f1 for Logistic Regression Classifier:\", f1_lr)\n",
        "print(\"weightedPrecision for Logistic Regression Classifier:\", weightedPrecision_lr)\n",
        "print(\"weightedRecall for Logistic Regression Classifier:\", weightedRecall_lr)"
      ],
      "metadata": {
        "colab": {
          "base_uri": "https://localhost:8080/"
        },
        "id": "fTTj3I2ztAX2",
        "outputId": "418c6ca1-b18c-459c-e253-8aca0dc9f9cd"
      },
      "execution_count": null,
      "outputs": [
        {
          "output_type": "stream",
          "name": "stdout",
          "text": [
            "Accuracy:  0.7658196312904834\n",
            "f1 for Logistic Regression Classifier: 0.7311190615367359\n",
            "weightedPrecision for Logistic Regression Classifier: 0.742845072399753\n",
            "weightedRecall for Logistic Regression Classifier: 0.7658196312904832\n"
          ]
        }
      ]
    },
    {
      "cell_type": "code",
      "source": [],
      "metadata": {
        "colab": {
          "base_uri": "https://localhost:8080/"
        },
        "id": "bxvoRh1gf0Lv",
        "outputId": "0b1a6593-a196-42f7-c294-aaabb088c785"
      },
      "execution_count": null,
      "outputs": [
        {
          "output_type": "stream",
          "name": "stdout",
          "text": [
            "Accuracy of Logistic Regression Classifier: 0.765820\n",
            "Accuracy of Decision Tree Classifier: 0.765321\n",
            "Accuracy of GBT Classifier: 0.772795\n",
            "Accuracy of Random ForestClassifier: 0.769806\n"
          ]
        }
      ]
    },
    {
      "cell_type": "code",
      "source": [],
      "metadata": {
        "id": "x_ywuPbjfmmf"
      },
      "execution_count": null,
      "outputs": []
    },
    {
      "cell_type": "code",
      "source": [],
      "metadata": {
        "id": "Ue1OQnXGdDKB"
      },
      "execution_count": null,
      "outputs": []
    },
    {
      "cell_type": "code",
      "source": [],
      "metadata": {
        "id": "geOM1qUpf6du"
      },
      "execution_count": null,
      "outputs": []
    },
    {
      "cell_type": "code",
      "source": [],
      "metadata": {
        "id": "GICe0CH2hJ50"
      },
      "execution_count": null,
      "outputs": []
    },
    {
      "cell_type": "code",
      "source": [],
      "metadata": {
        "id": "I9uNuI2Iplzk"
      },
      "execution_count": null,
      "outputs": []
    },
    {
      "cell_type": "code",
      "source": [],
      "metadata": {
        "id": "sqkH52Z6p-Qg"
      },
      "execution_count": null,
      "outputs": []
    }
  ]
}